{
  "nbformat": 4,
  "nbformat_minor": 0,
  "metadata": {
    "colab": {
      "provenance": [],
      "collapsed_sections": []
    },
    "kernelspec": {
      "name": "python3",
      "display_name": "Python 3"
    },
    "language_info": {
      "name": "python"
    }
  },
  "cells": [
    {
      "cell_type": "code",
      "source": [
        "import pandas as pd\n",
        "import matplotlib.pyplot as plt\n",
        "import math "
      ],
      "metadata": {
        "id": "Pway0ckU4-rz"
      },
      "execution_count": null,
      "outputs": []
    },
    {
      "cell_type": "code",
      "source": [
        "def checkOutliers(dfColumn, maxValue, greater):\n",
        "  if greater:\n",
        "    (dfColumn > maxValue).any()\n",
        "  else:\n",
        "    (dfColumn < maxValue).any()\n",
        "\n",
        "def deleteOutliers(df, dfRow, value, greater):\n",
        "  if greater:\n",
        "    df.drop(df[(dfRow > value)].index, inplace = True)\n",
        "  else:\n",
        "    df.drop(df[(dfRow < value)].index, inplace = True)\n",
        "\n",
        "def getDataFrame(index, explanation_type=''):\n",
        "  dfs = None\n",
        "  warmup = 10\n",
        "  for y in range(50, 201, 50):\n",
        "    df = pd.read_csv(f'Question{index}Length{y}Explanation{explanation_type}.csv', skipinitialspace=True).iloc[warmup:, :]\n",
        "    dfs = pd.concat([dfs,df]) \n",
        "  dfs_mean_by_index = dfs.groupby(\"Index\").mean()\n",
        "  #deleteOutliers(dfs_mean_by_index, dfs_mean_by_index.Memory, 0, False)\n",
        "  #deleteOutliers(dfs_mean_by_index, dfs_mean_by_index.Time, 20, True)\n",
        "  return dfs_mean_by_index, dfs\n",
        "\n",
        "def roundValues(dfColumn):\n",
        "  print(math.ceil(dfColumn).mean())\n",
        "  return math.ceil(dfColumn).mean()\n",
        "\n",
        "def createPlot(d1, d2, labelLine, labelx, labely):\n",
        "  plt.plot(d1, d2, label = labelLine)\n",
        "  plt.xlabel(labelx)\n",
        "  plt.ylabel(labely)\n",
        "  plt.legend()\n",
        "  plt.show()"
      ],
      "metadata": {
        "id": "2dUDRaLsT3Ec"
      },
      "execution_count": null,
      "outputs": []
    },
    {
      "cell_type": "markdown",
      "source": [
        "# BW general explanation data set\n",
        "\n",
        "*   load csv(s)\n",
        "  *   drop first elements: warmup phase \n",
        "  *   drop memory's outliers: replace negative values with 0 (garbage collector?)\n",
        "  *   drop time's outliers: replace values >30 ms with 30 (idk)\n",
        "*   merge csv\n",
        "  *   concat referring to the same question\n",
        "  *   calculate mean of the element of the same index (application of the same operation on plan of different length)\n",
        "\n",
        "\n",
        "\n"
      ],
      "metadata": {
        "id": "iswbLnOSCO9e"
      }
    },
    {
      "cell_type": "code",
      "source": [
        "questionsList = [\"Q1\", \"Q2\", \"Q3\", \"Q4\", \"Q5\"]\n",
        "questions = pd.DataFrame(questionsList)\n",
        "\n",
        "means_by_index_q1, dfQ1 = getDataFrame(1)\n",
        "means_by_index_q2, dfQ2 = getDataFrame(2)\n",
        "means_by_index_q3, dfQ3 = getDataFrame(3)\n",
        "means_by_index_q4, dfQ4 = getDataFrame(4)\n",
        "means_by_index_q5, dfQ5 = getDataFrame(5)\n",
        "\n",
        "dfs = [dfQ1,dfQ2,dfQ3,dfQ4, dfQ5]\n",
        "dfs_merged = pd.concat(dfs)\n",
        "means_by_index = [means_by_index_q1, means_by_index_q2, means_by_index_q3, means_by_index_q4, means_by_index_q5]\n",
        "means_memory_general_explanation = [math.ceil(means_by_index_q1.Memory.mean()), math.ceil(means_by_index_q2.Memory.mean()), math.ceil(means_by_index_q3.Memory.mean()), math.ceil(means_by_index_q4.Memory.mean()), math.ceil(means_by_index_q5.Memory.mean())]\n",
        "means_time_general_explanation = [math.ceil(means_by_index_q1.Time.mean()), math.ceil(means_by_index_q2.Time.mean()), math.ceil(means_by_index_q3.Time.mean()), math.ceil(means_by_index_q4.Time.mean()), math.ceil(means_by_index_q5.Time.mean())]"
      ],
      "metadata": {
        "id": "1vrXTjX__keY"
      },
      "execution_count": null,
      "outputs": []
    },
    {
      "cell_type": "markdown",
      "source": [
        "# BW contrastive explanation dataset\n",
        "\n",
        "*   load csv(s)\n",
        "  *   drop first elements: warmup phase \n",
        "  *   drop memory's outliers: replace negative values with 0 (garbage collector?)\n",
        "*   merge csv\n",
        "  *   concat referring to the same question\n",
        "  *   calculate mean of the element of the same index (application of the same operation on plan of different length)\n",
        "  "
      ],
      "metadata": {
        "id": "CED-iuWfCEL3"
      }
    },
    {
      "cell_type": "code",
      "execution_count": null,
      "metadata": {
        "id": "5CkSOctf_sg7"
      },
      "outputs": [],
      "source": [
        "means_by_index_q1C, dfQ1C = getDataFrame(1, 'c')\n",
        "means_by_index_q2C, dfQ2C = getDataFrame(2, 'c')\n",
        "means_by_index_q3C, dfQ3C = getDataFrame(3, 'c')\n",
        "means_by_index_q4C, dfQ4C = getDataFrame(4, 'c')\n",
        "means_by_index_q5C, dfQ5C = getDataFrame(5, 'c')\n",
        "\n",
        "dfsC = [dfQ1C,dfQ2C,dfQ3C,dfQ4C, dfQ5C]\n",
        "dfs_mergedC = pd.concat(dfsC)\n",
        "means_by_indexC = [means_by_index_q1C, means_by_index_q2C, means_by_index_q3C, means_by_index_q4C, means_by_index_q5C]\n",
        "means_memory_contrastive_explanation = [math.ceil(means_by_index_q1C.Memory.mean()), math.ceil(means_by_index_q2C.Memory.mean()), math.ceil(means_by_index_q3C.Memory.mean()), math.ceil(means_by_index_q4C.Memory.mean()), math.ceil(means_by_index_q5C.Memory.mean())]\n",
        "means_time_contrastive_explanation = [math.ceil(means_by_index_q1C.Time.mean()), math.ceil(means_by_index_q2C.Time.mean()), math.ceil(means_by_index_q3C.Time.mean()), math.ceil(means_by_index_q4C.Time.mean()), math.ceil(means_by_index_q5C.Time.mean())]"
      ]
    },
    {
      "cell_type": "code",
      "source": [
        "dfQ5.Memory"
      ],
      "metadata": {
        "id": "sD4GmW1t1fNn",
        "colab": {
          "base_uri": "https://localhost:8080/"
        },
        "outputId": "9058a423-5d50-4c23-dee4-87f355aa9b73"
      },
      "execution_count": null,
      "outputs": [
        {
          "output_type": "execute_result",
          "data": {
            "text/plain": [
              "10     3145728\n",
              "11     2097152\n",
              "12     2097152\n",
              "13     3145728\n",
              "14     2097152\n",
              "        ...   \n",
              "195    3145728\n",
              "196    3145728\n",
              "197    3145728\n",
              "198    3145728\n",
              "199    3145728\n",
              "Name: Memory, Length: 460, dtype: int64"
            ]
          },
          "metadata": {},
          "execution_count": 98
        }
      ]
    },
    {
      "cell_type": "markdown",
      "source": [
        "# Create aggregate results"
      ],
      "metadata": {
        "id": "dYyheJ5UVAef"
      }
    },
    {
      "cell_type": "code",
      "source": [
        "def createDfPlans(df):\n",
        "  listTime = []\n",
        "  listMemory = []\n",
        "  for y in range(50, 201, 50):\n",
        "    listTime.append(df[(df.PlanLength == y)].Time.mean())\n",
        "    listMemory.append(df[(df.PlanLength == y)].Memory.mean())\n",
        "    print()\n",
        "  return listMemory, listTime\n",
        "\n",
        "\n",
        "def init(memory, time):\n",
        "  means_memory_explanation = pd.DataFrame(memory, columns=['Memory(Byte)'])\n",
        "  means_time_explanation =  pd.DataFrame(time, columns=['Time(ms)'])\n",
        "  return pd.concat([means_memory_explanation, means_time_explanation], axis=1)\n",
        "\n",
        "def write(question, means_general_explanation, means_contrastive_explanation, fileName): \n",
        "  means = {'Explanation': question, 'General' : means_general_explanation, 'Contrastive': means_contrastive_explanation}\n",
        "  means = pd.concat(means.values(), axis=1, keys=means.keys())\n",
        "  means.rename(columns={0: 'Length'}, inplace=True)\n",
        "  means.to_csv('{}.csv'.format(fileName))\n",
        "  print(means)\n",
        "\n",
        "def writeResult(dfQ, dfQC, fileName):\n",
        "  i, j = createDfPlans(dfQ)\n",
        "  means_general_explanation = init(i,j)\n",
        "  i, j = createDfPlans(dfQC)\n",
        "  means_contrastive_explanation = init(i, j)\n",
        "  write(pd.DataFrame([\"50\", \"100\", \"150\", \"200\"]), means_general_explanation, means_contrastive_explanation, fileName)\n",
        "\n",
        "def writeAggregateResult(filename):\n",
        "  memory_general_explanation = pd.DataFrame(means_memory_general_explanation, columns=['Memory(Byte)'])\n",
        "  time_general_explanation =  pd.DataFrame(means_time_general_explanation, columns=['Time(ms)'])\n",
        "\n",
        "  memory_contrastive_explanation = pd.DataFrame(means_memory_contrastive_explanation, columns=['Memory(Byte)'])\n",
        "  time_contrastive_explanation = pd.DataFrame(means_time_contrastive_explanation, columns=['Time(ms)'])\n",
        "\n",
        "  means_general_explanation = pd.concat([memory_general_explanation, time_general_explanation], axis=1)\n",
        "  means_contrastive_explanation = pd.concat([memory_contrastive_explanation, time_contrastive_explanation], axis=1)\n",
        "  write(pd.DataFrame([\"Q1\", \"Q2\", \"Q3\", \"Q4\", \"Q5\"]), means_general_explanation, means_contrastive_explanation, filename)\n",
        "\n",
        "writeResult(dfQ1, dfQ1C, \"q1\")\n",
        "writeResult(dfQ2, dfQ2C, \"q2\")\n",
        "writeResult(dfQ3, dfQ3C, \"q3\")\n",
        "writeResult(dfQ4, dfQ4C, \"q4\")\n",
        "writeResult(dfQ5, dfQ5C, \"q5\")\n",
        "\n",
        "writeAggregateResult(\"aggregate\")\n",
        "\n",
        "#means_general_explanation_bw.reorder_levels([1,0], axis=1)"
      ],
      "metadata": {
        "id": "FA-wliU1U3ZW",
        "colab": {
          "base_uri": "https://localhost:8080/"
        },
        "outputId": "44c8b9aa-a75d-4641-a65d-968ff456b1e2"
      },
      "execution_count": null,
      "outputs": [
        {
          "output_type": "stream",
          "name": "stdout",
          "text": [
            "\n",
            "\n",
            "\n",
            "\n",
            "\n",
            "\n",
            "\n",
            "\n",
            "  Explanation       General             Contrastive          \n",
            "       Length  Memory(Byte)  Time(ms)  Memory(Byte)  Time(ms)\n",
            "0          50  1.703936e+06  7.025000  1.074790e+06  5.900000\n",
            "1         100  1.433054e+06  4.866667  1.118481e+06  4.277778\n",
            "2         150  1.685211e+06  3.007143  1.101005e+06  2.664286\n",
            "3         200  1.098245e+06  2.310526  1.076170e+06  2.694737\n",
            "\n",
            "\n",
            "\n",
            "\n",
            "\n",
            "\n",
            "\n",
            "\n",
            "  Explanation       General             Contrastive          \n",
            "       Length  Memory(Byte)  Time(ms)  Memory(Byte)  Time(ms)\n",
            "0          50  2.909798e+06  5.200000  3.040870e+06  4.325000\n",
            "1         100  3.064172e+06  3.833333  3.134077e+06  3.933333\n",
            "2         150  2.082172e+06  3.392857  3.145728e+06  3.378571\n",
            "3         200  2.626959e+06  2.752632  2.792523e+06  3.036842\n",
            "\n",
            "\n",
            "\n",
            "\n",
            "\n",
            "\n",
            "\n",
            "\n",
            "  Explanation       General             Contrastive          \n",
            "       Length  Memory(Byte)  Time(ms)  Memory(Byte)  Time(ms)\n",
            "0          50  3.617587e+06  5.400000  2.306867e+06  4.200000\n",
            "1         100  3.821477e+06  3.666667  2.947664e+06  3.888889\n",
            "2         150  3.145728e+06  3.657143  2.576501e+06  3.550000\n",
            "3         200  3.145728e+06  3.331579  4.183266e+06  3.331579\n",
            "\n",
            "\n",
            "\n",
            "\n",
            "\n",
            "\n",
            "\n",
            "\n",
            "  Explanation      General             Contrastive          \n",
            "       Length Memory(Byte)  Time(ms)  Memory(Byte)  Time(ms)\n",
            "0          50    1048576.0  1.250000  4.456448e+05  1.425000\n",
            "1         100    1048576.0  1.411111  1.409752e+06  1.344444\n",
            "2         150    1048576.0  1.478571  1.048576e+06  1.457143\n",
            "3         200    1048576.0  1.542105  1.048576e+06  1.542105\n",
            "\n",
            "\n",
            "\n",
            "\n",
            "\n",
            "\n",
            "\n",
            "\n",
            "  Explanation      General             Contrastive          \n",
            "       Length Memory(Byte)  Time(ms)  Memory(Byte)  Time(ms)\n",
            "0          50    2411724.8  2.300000  2.726298e+06  2.400000\n",
            "1         100    3145728.0  2.366667  2.097152e+06  2.411111\n",
            "2         150    3145728.0  2.414286  2.673869e+06  2.450000\n",
            "3         200    3145728.0  2.494737  2.715260e+06  2.410526\n",
            "  Explanation      General           Contrastive         \n",
            "       Length Memory(Byte) Time(ms) Memory(Byte) Time(ms)\n",
            "0          Q1      1331876        3      1084909        3\n",
            "1          Q2      2574531        4      2893242        4\n",
            "2          Q3      3264383        4      3477318        4\n",
            "3          Q4      1048576        2      1066973        2\n",
            "4          Q5      3107097        3      2632478        3\n"
          ]
        }
      ]
    }
  ]
}